{
    "cells": [
        {
            "cell_type": "markdown",
            "metadata": {
                "collapsed": true
            },
            "source": "Business Problem:\n\nSo I wanted to go on a vacation in Summer. I have two places in my mind. Chicago and Newyork. Before I start planning my trip I want to explore both the places and decide on where to go. For this, I need to plan my budget ahead of anything. There are many attractions in both the cities. I want to list top places among them, its ratings, reviews and estimate the admit fee for them. Also, how much would my hotel stay cost in both of the places. I don't want to go beyond my budget. So I want to calculate how much it would cost for my trip in both the places. \n\nI find many people in my situation. For all those who want to plan their trip costs this will be their perfect goto site.\n\n\nData:\n\nFrom Foursquare.com I will send an API request and collect data about different attractions in  Newyork and Chicago. I also collect the details of each attraction like its location, cost, ratings, reviews, offers etc. I also want to combine hotel costs in both the cities in order to make my trip estimation. Upon collecting all the required data, I am sure I will able to calculate and compare my trip costs in both the cities and finalize on which is the best place to visit in my budget."
        }
    ],
    "metadata": {
        "kernelspec": {
            "display_name": "Python 3.7",
            "language": "python",
            "name": "python3"
        },
        "language_info": {
            "codemirror_mode": {
                "name": "ipython",
                "version": 3
            },
            "file_extension": ".py",
            "mimetype": "text/x-python",
            "name": "python",
            "nbconvert_exporter": "python",
            "pygments_lexer": "ipython3",
            "version": "3.7.9"
        }
    },
    "nbformat": 4,
    "nbformat_minor": 1
}